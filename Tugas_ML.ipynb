{
  "nbformat": 4,
  "nbformat_minor": 0,
  "metadata": {
    "colab": {
      "provenance": []
    },
    "kernelspec": {
      "name": "python3",
      "display_name": "Python 3"
    },
    "language_info": {
      "name": "python"
    }
  },
  "cells": [
    {
      "cell_type": "code",
      "execution_count": 1,
      "metadata": {
        "id": "ABNWsO_HNVuV",
        "colab": {
          "base_uri": "https://localhost:8080/"
        },
        "outputId": "066fcbb9-8b37-4485-abae-69c72ca07ae2"
      },
      "outputs": [
        {
          "output_type": "stream",
          "name": "stdout",
          "text": [
            "Accuracy on training set (SVM): 0.8166666666666667\n",
            "Accuracy on training set (KNN): 0.84\n",
            "SVM: Ini adalah gambar kelas 1 (Tulip).\n",
            "KNN: Ini adalah gambar kelas 1 (Tulip).\n"
          ]
        }
      ],
      "source": [
        "import cv2\n",
        "import numpy as np\n",
        "import os\n",
        "from sklearn.svm import SVC\n",
        "from sklearn.metrics import accuracy_score\n",
        "from sklearn.neighbors import KNeighborsClassifier\n",
        "\n",
        "# Fungsi untuk mengekstraksi fitur dari gambar\n",
        "def extract_features(image_path):\n",
        "    image = cv2.imread(image_path)\n",
        "    resized_image = cv2.resize(image, (50, 50))\n",
        "    histogram = cv2.calcHist([resized_image], [0, 1, 2], None, [8, 8, 8], [0, 256, 0, 256, 0, 256])\n",
        "    histogram = cv2.normalize(histogram, histogram).flatten()\n",
        "    return histogram\n",
        "\n",
        "# Inisialisasi list untuk menyimpan data latih dan labelnya\n",
        "train_data = []\n",
        "train_labels = []\n",
        "\n",
        "# Path dataset\n",
        "dataset_path = \"/content/drive/MyDrive/Dataset\"\n",
        "\n",
        "# Iterasi melalui folder untuk setiap kelas\n",
        "classes = os.listdir(dataset_path)\n",
        "for class_name in classes:\n",
        "    class_path = os.path.join(dataset_path, class_name)\n",
        "    if os.path.isdir(class_path):\n",
        "        # Menentukan label untuk kelas\n",
        "        label = classes.index(class_name)\n",
        "\n",
        "        # Iterasi melalui gambar dalam kelas\n",
        "        for file in os.listdir(class_path):\n",
        "            if file.endswith(\".jpg\"):\n",
        "                image_path = os.path.join(class_path, file)\n",
        "                features = extract_features(image_path)\n",
        "                train_data.append(features)\n",
        "                train_labels.append(label)\n",
        "\n",
        "# Konversi ke array numpy\n",
        "train_data = np.array(train_data)\n",
        "train_labels = np.array(train_labels)\n",
        "\n",
        "# Inisialisasi dan melatih model SVM\n",
        "svm_model = SVC(kernel='linear')\n",
        "svm_model.fit(train_data, train_labels)\n",
        "\n",
        "# Membuat prediksi pada data latih menggunakan model SVM\n",
        "train_predictions_svm = svm_model.predict(train_data)\n",
        "\n",
        "# Menghitung akurasi pada data latih untuk model SVM\n",
        "accuracy_svm = accuracy_score(train_labels, train_predictions_svm)\n",
        "print(\"Accuracy on training set (SVM):\", accuracy_svm)\n",
        "\n",
        "# Inisialisasi dan melatih model KNN\n",
        "knn_model = KNeighborsClassifier(n_neighbors=5)  # Gunakan 5 tetangga terdekat\n",
        "knn_model.fit(train_data, train_labels)\n",
        "\n",
        "# Membuat prediksi pada data latih menggunakan model KNN\n",
        "train_predictions_knn = knn_model.predict(train_data)\n",
        "\n",
        "# Menghitung akurasi pada data latih untuk model KNN\n",
        "accuracy_knn = accuracy_score(train_labels, train_predictions_knn)\n",
        "print(\"Accuracy on training set (KNN):\", accuracy_knn)\n",
        "\n",
        "# Membuat prediksi untuk gambar baru\n",
        "new_image_path = \"/content/drive/MyDrive/data_tes/Aglonema (1).jpg\"\n",
        "new_features = extract_features(new_image_path)\n",
        "prediction_svm = svm_model.predict([new_features])[0]\n",
        "prediction_knn = knn_model.predict([new_features])[0]\n",
        "\n",
        "# Menampilkan hasil prediksi\n",
        "if prediction_svm == 0:\n",
        "    print(\"SVM: Ini adalah gambar kelas 0 (Mawar).\")\n",
        "elif prediction_svm == 1:\n",
        "    print(\"SVM: Ini adalah gambar kelas 1 (Tulip).\")\n",
        "elif prediction_svm == 2:\n",
        "    print(\"SVM: Ini adalah gambar kelas 2 (Anggrek).\")\n",
        "else:\n",
        "    print(\"SVM: Kelas tidak dikenali.\")\n",
        "\n",
        "if prediction_knn == 0:\n",
        "    print(\"KNN: Ini adalah gambar kelas 0 (Mawar).\")\n",
        "elif prediction_knn == 1:\n",
        "    print(\"KNN: Ini adalah gambar kelas 1 (Tulip).\")\n",
        "elif prediction_knn == 2:\n",
        "    print(\"KNN: Ini adalah gambar kelas 2 (Anggrek).\")\n",
        "else:\n",
        "    print(\"KNN: Kelas tidak dikenali.\")"
      ]
    }
  ]
}